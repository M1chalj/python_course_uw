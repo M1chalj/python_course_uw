{
 "cells": [
  {
   "cell_type": "markdown",
   "id": "398a2615c81dda14",
   "metadata": {},
   "source": [
    "# Zadanie zaliczeniowe\n",
    "Michał Januszkiewicz\\\n",
    "nr albumu: 459089"
   ]
  },
  {
   "cell_type": "markdown",
   "id": "625967967216ce48",
   "metadata": {},
   "source": [
    "## Zadanie 1\n",
    "Utworzyć ramkę danych, która dla każdego leku zawiera następujące informacje:\n",
    "- unikalny identyfikator leku w bazie DrugBank,\n",
    "- nazwę leku,\n",
    "- jego typ,\n",
    "- opis,\n",
    "- postać w jakiej dany lek\n",
    "występuje,\n",
    "- wskazania,\n",
    "- mechanizm działania,\n",
    "- informacje z jakimi pokarmami dany lek\n",
    "wchodzi w interakcje"
   ]
  },
  {
   "cell_type": "code",
   "id": "initial_id",
   "metadata": {},
   "source": [
    "import pandas as pd\n",
    "from bs4 import BeautifulSoup\n",
    "from networkx.drawing import draw_networkx_nodes\n",
    "from pandas.io.clipboard import paste\n",
    "\n",
    "\n",
    "# returns BeautifulSoup object containing database from xml file\n",
    "def import_database_from_xml(file):\n",
    "    with open(file) as f:\n",
    "        drugbank_file = f.read()\n",
    "    return BeautifulSoup(drugbank_file, 'lxml-xml')\n",
    "\n",
    "\n",
    "data = import_database_from_xml('drugbank_partial.xml')"
   ],
   "outputs": [],
   "execution_count": null
  },
  {
   "cell_type": "code",
   "id": "32bb5a0a3663abe2",
   "metadata": {},
   "source": [
    "# returns DataFrame containing drugs data\n",
    "# data - BeautifulSoup object containing database\n",
    "def create_drugs_dataframe(data):\n",
    "    drugs = []\n",
    "    for drug in data.find('drugbank').find_all('drug', recursive=False):  # recursive=False is needed because database contains nested drugs\n",
    "        id = drug.find('drugbank-id', {'primary': 'true'}, recursive=False).text\n",
    "        name = drug.find('name', recursive=False).text\n",
    "        type = drug.get('type')\n",
    "        description = drug.find('description', recursive=False).text\n",
    "        state = drug.find('state', recursive=False).text\n",
    "        indications = drug.find('indication', recursive=False).text\n",
    "        mechanism_of_action = drug.find('mechanism-of-action', recursive=False).text\n",
    "        food_interactions = [interaction.text for interaction in drug.find('food-interactions', recursive=False).find_all('food-interaction', recursive=False)]\n",
    "\n",
    "        drugs.append({\n",
    "            'DrugBank ID': id,\n",
    "            'Name': name,\n",
    "            'Type': type,\n",
    "            'Description': description,\n",
    "            'State': state,\n",
    "            'Indications': indications,\n",
    "            'Mechanism of Action': mechanism_of_action,\n",
    "            'Food Interactions': food_interactions\n",
    "        })\n",
    "\n",
    "    return pd.DataFrame(drugs)"
   ],
   "outputs": [],
   "execution_count": null
  },
  {
   "cell_type": "code",
   "id": "8d090ccf9f4f9839",
   "metadata": {},
   "source": [
    "drugs_df = create_drugs_dataframe(data)\n",
    "drugs_df.head()"
   ],
   "outputs": [],
   "execution_count": null
  },
  {
   "cell_type": "markdown",
   "id": "d9a239e28225c711",
   "metadata": {},
   "source": [
    "## Zadanie 2\n",
    "Utworzyć ramkę danych pozwalającą na wyszukiwanie po DrugBank ID informacji o\n",
    "wszystkich synonimach pod jakimi dany lek występuje.\\\n",
    "Napisać funkcję, która dla podanego\n",
    "DrugBank ID utworzy i wyrysuje graf synonimów za pomocą biblioteki NetworkX. Należy\n",
    "zadbać o czytelność generowanego rysunku."
   ]
  },
  {
   "cell_type": "code",
   "id": "c7074fd2bb519a3",
   "metadata": {},
   "source": [
    "# returns DataFrame containing synonyms data for all drugs\n",
    "# data - BeautifulSoup object containing database\n",
    "def create_synonyms_dataframe(data):\n",
    "    synonyms = []\n",
    "    for drug in data.find('drugbank').find_all('drug', recursive=False):\n",
    "        id = drug.find('drugbank-id', {'primary': 'true'}, recursive=False).text\n",
    "        name = drug.find('name', recursive=False).text\n",
    "        synonyms_list = [synonym.text for synonym in\n",
    "                         drug.find('synonyms', recursive=False).find_all('synonym', recursive=False)]\n",
    "\n",
    "        synonyms.append({\n",
    "            'DrugBank ID': id,\n",
    "            'Name': name,\n",
    "            'Synonyms': synonyms_list\n",
    "        })\n",
    "    return pd.DataFrame(synonyms)"
   ],
   "outputs": [],
   "execution_count": null
  },
  {
   "cell_type": "code",
   "id": "cc0dbd9b03b3c4f9",
   "metadata": {},
   "source": [
    "synonyms_df = create_synonyms_dataframe(data)\n",
    "synonyms_df.head()"
   ],
   "outputs": [],
   "execution_count": null
  },
  {
   "cell_type": "code",
   "id": "8660be10740ef350",
   "metadata": {},
   "source": [
    "import networkx as nx\n",
    "import matplotlib.pyplot as plt"
   ],
   "outputs": [],
   "execution_count": null
  },
  {
   "cell_type": "code",
   "id": "e7d63aec95a4dcd3",
   "metadata": {},
   "source": [
    "# Draws a graph of synonyms for a given drug\n",
    "# synonyms_df - DataFrame containing synonyms data for all drugs (generated by create_synonyms_dataframe function)\n",
    "# drug_id - DrugBank ID of the drug for which the graph should be drawn\n",
    "def show_synonyms_graph(synonyms_df, drug_id):\n",
    "    g = nx.Graph()\n",
    "    synonyms = synonyms_df.loc[synonyms_df['DrugBank ID'] == drug_id, 'Synonyms'].values[0]\n",
    "\n",
    "    for synonym in synonyms:\n",
    "        g.add_edge(drug_id, synonym)\n",
    "\n",
    "    colors = []\n",
    "    for node in g.nodes:\n",
    "        if node == drug_id:\n",
    "            colors.append('lightgreen')\n",
    "        else:\n",
    "            colors.append('lightblue')\n",
    "\n",
    "    plt.figure(figsize=(len(g.nodes) * 0.5 + 6, len(g.nodes) * 0.5 + 6))\n",
    "    nx.draw(g, with_labels=True, font_size=10, node_size=5000, font_color='black', node_color=colors)\n",
    "    plt.show()"
   ],
   "outputs": [],
   "execution_count": null
  },
  {
   "cell_type": "code",
   "id": "54a23e28d5887884",
   "metadata": {},
   "source": "show_synonyms_graph(synonyms_df, 'DB00001')",
   "outputs": [],
   "execution_count": null
  },
  {
   "cell_type": "markdown",
   "id": "fce0a6ad9ecc8085",
   "metadata": {},
   "source": [
    "## Zadanie 3\n",
    "Utworzyć ramkę danych o produktach farmaceutycznych zawierających dany lek\n",
    "(substancję leczniczą). Ramka powinna zawierać informacje o:\n",
    " - ID leku,\n",
    " - nazwie produktu,\n",
    " - producencie,\n",
    " - kod w narodowym rejestrze USA (ang. *National Drug Code*),\n",
    " - postać w jakiej produkt występuje,\n",
    " - sposób aplikacji,\n",
    " - informacje o dawce,\n",
    " - kraju\n",
    " - agencji rejestrującej produkt"
   ]
  },
  {
   "cell_type": "code",
   "id": "3fd3d5f87f67becb",
   "metadata": {},
   "source": [
    "# returns DataFrame containing pharmaceuticals data\n",
    "# data - BeautifulSoup object containing database\n",
    "def create_pharmaceuticals_dataframe(data):\n",
    "    pharmaceuticals = []\n",
    "    for drug in data.find('drugbank').find_all('drug', recursive=False):\n",
    "        id = drug.find('drugbank-id', {'primary': 'true'}, recursive=False).text\n",
    "        products = drug.find('products', recursive=False)\n",
    "        if products:\n",
    "            for product in products.find_all('product', recursive=False):\n",
    "                name = product.find('name', recursive=False).text\n",
    "                manufacturer = product.find('labeller', recursive=False).text\n",
    "                ndc = product.find('ndc-product-code', recursive=False).text\n",
    "                form = product.find('dosage-form', recursive=False).text\n",
    "                route = product.find('route', recursive=False).text\n",
    "                dose = product.find('strength', recursive=False).text\n",
    "                country = product.find('country', recursive=False).text\n",
    "                regulatory_authority = product.find('source', recursive=False).text\n",
    "\n",
    "                pharmaceuticals.append({\n",
    "                    'DrugBank ID': id,\n",
    "                    'Product Name': name,\n",
    "                    'Manufacturer': manufacturer,\n",
    "                    'NDC': ndc,\n",
    "                    'Form': form,\n",
    "                    'Route': route,\n",
    "                    'Dose': dose,\n",
    "                    'Country': country,\n",
    "                    'Regulatory Authority': regulatory_authority\n",
    "                })\n",
    "\n",
    "    return pd.DataFrame(pharmaceuticals)"
   ],
   "outputs": [],
   "execution_count": null
  },
  {
   "cell_type": "code",
   "id": "e289d1689ce8e036",
   "metadata": {},
   "source": [
    "pharmaceuticals_df = create_pharmaceuticals_dataframe(data)\n",
    "pharmaceuticals_df.head()"
   ],
   "outputs": [],
   "execution_count": null
  },
  {
   "cell_type": "markdown",
   "id": "bfbdb0eb979c135f",
   "metadata": {},
   "source": [
    "## Zadanie 4\n",
    "Utworzyć ramkę danych zawierającą informacje o wszystkich szlakach (sygnałowych,\n",
    "metabolicznych) z jakimi jakikolwiek lek wchodzi w interakcje. Podać całkowitą liczbę tych\n",
    "szlaków"
   ]
  },
  {
   "cell_type": "code",
   "id": "e12a851056662ef2",
   "metadata": {},
   "source": [
    "# returns DataFrame containing pathways data\n",
    "# data - BeautifulSoup object containing database\n",
    "def create_pathways_dataframe(data):\n",
    "    pathways = []\n",
    "    for drug in data.find('drugbank').find_all('drug', recursive=False):\n",
    "        pathways_list = drug.find('pathways', recursive=False)\n",
    "        if pathways_list:\n",
    "            for pathway in pathways_list.find_all('pathway', recursive=False):\n",
    "                pathway_name = pathway.find('name', recursive=False).text\n",
    "                category = pathway.find('category', recursive=False).text\n",
    "\n",
    "                pathways.append({\n",
    "                    'Pathway Name': pathway_name,\n",
    "                    'Category': category\n",
    "                })\n",
    "\n",
    "    return pd.DataFrame(pathways).drop_duplicates()"
   ],
   "outputs": [],
   "execution_count": null
  },
  {
   "cell_type": "code",
   "id": "8cd2275bf1294bfd",
   "metadata": {},
   "source": [
    "pathways_df = create_pathways_dataframe(data)\n",
    "pathways_df.head()"
   ],
   "outputs": [],
   "execution_count": null
  },
  {
   "cell_type": "code",
   "id": "5b3f1c0be2c73c1f",
   "metadata": {},
   "source": [
    "print(\"Total number of pathways:\", len(pathways_df))"
   ],
   "outputs": [],
   "execution_count": null
  },
  {
   "cell_type": "markdown",
   "id": "fb1a1ef58afb2760",
   "metadata": {},
   "source": [
    "## Zadanie 5\n",
    "Dla każdego szlaku sygnałowego/metabolicznego w bazie danych podać leki, które\n",
    "wchodzą z nim w interakcje. Wyniki należy przedstawić w postaci ramki danych jak i w\n",
    "opracowanej przez siebie formie graficznej. Przykładem takiej grafiki może być graf\n",
    "dwudzielny, gdzie dwa rodzaje wierzchołków to szlaki sygnałowe i leki, a poszczególne\n",
    "krawędzie reprezentują interakcję danego leku z danym szlakiem sygnałowym. Należy\n",
    "zadbać o czytelność i atrakcyjność prezentacji graficznej"
   ]
  },
  {
   "cell_type": "code",
   "id": "b036718215222e1a",
   "metadata": {},
   "source": [
    "# returns DataFrame containing drugs-pathways data\n",
    "# data - BeautifulSoup object containing database\n",
    "def create_drugs_pathways_dataframe(data):\n",
    "    pathways_drugs = []\n",
    "    for drug in data.find('drugbank').find_all('drug', recursive=False):\n",
    "        name = drug.find('name', recursive=False).text\n",
    "        pathways = drug.find('pathways', recursive=False)\n",
    "        if pathways:\n",
    "            for pathway in pathways.find_all('pathway', recursive=False):\n",
    "                pathway_name = pathway.find('name', recursive=False).text\n",
    "\n",
    "                pathways_drugs.append({\n",
    "                    'Drug Name': name,\n",
    "                    'Pathway Name': pathway_name\n",
    "                })\n",
    "\n",
    "    return pd.DataFrame(pathways_drugs)"
   ],
   "outputs": [],
   "execution_count": null
  },
  {
   "cell_type": "code",
   "id": "752db0306210c42e",
   "metadata": {},
   "source": [
    "drugs_pathways_df = create_drugs_pathways_dataframe(data)\n",
    "drugs_pathways_df.head()"
   ],
   "outputs": [],
   "execution_count": null
  },
  {
   "cell_type": "code",
   "id": "ce01d94e50a616cc",
   "metadata": {},
   "source": [
    "# Draws a bipartite graph of drugs and pathways\n",
    "# drugs_pathways_df - DataFrame containing drugs-pathways data (generated by create_drugs_pathways_dataframe function)\n",
    "def show_drugs_pathways_graph(drugs_pathways_df):\n",
    "    g = nx.Graph()\n",
    "    drug_nodes = set(drugs_pathways_df['Drug Name'])\n",
    "    pathway_nodes = set(drugs_pathways_df['Pathway Name'])\n",
    "\n",
    "    g.add_nodes_from(drug_nodes, bipartite=0)\n",
    "    g.add_nodes_from(pathway_nodes, bipartite=1)\n",
    "\n",
    "    for i, row in drugs_pathways_df.iterrows():\n",
    "        drug_name = row['Drug Name']\n",
    "        pathway_name = row['Pathway Name']\n",
    "        g.add_edge(drug_name, pathway_name)\n",
    "\n",
    "    pos = nx.drawing.layout.bipartite_layout(g, drug_nodes, align='vertical')\n",
    "\n",
    "    plt.figure(figsize=(15, max(len(drug_nodes), len(pathway_nodes)) * 1.25))\n",
    "    nx.draw(g, pos, with_labels=True, font_size=10, node_size=5000, node_shape='h', node_color='lightblue',\n",
    "            font_color='black', bbox=dict(facecolor='lightblue', edgecolor='lightblue', boxstyle='round,pad=0.5'))\n",
    "    plt.show()"
   ],
   "outputs": [],
   "execution_count": null
  },
  {
   "cell_type": "code",
   "id": "8797ef21e78ceda3",
   "metadata": {},
   "source": [
    "show_drugs_pathways_graph(drugs_pathways_df)"
   ],
   "outputs": [],
   "execution_count": null
  },
  {
   "cell_type": "markdown",
   "id": "27dcd417e5aa0436",
   "metadata": {},
   "source": [
    "## Zadanie 6\n",
    "Dla każdego leku w bazie danych podać liczbę szlaków, z którymi dany lek wchodzi w\n",
    "interakcje. Przedstawić wyniki w postaci histogramu z odpowiednio opisanymi osiami."
   ]
  },
  {
   "cell_type": "code",
   "id": "356a17db3a8210cb",
   "metadata": {},
   "source": [
    "# Draws a histogram showing the number of pathways per drug\n",
    "# drugs_df - DataFrame containing drugs data (generated by create_drugs_dataframe function)\n",
    "# drugs_pathways_df - DataFrame containing drugs-pathways data (generated by create_drugs_pathways_dataframe function)\n",
    "def show_drugs_pathways_histogram(drugs_df, drugs_pathways_df):\n",
    "    drug_names = []\n",
    "    pathways_cnts = []\n",
    "    for drug_name in drugs_df['Name']:\n",
    "        drug_names.append(drug_name)\n",
    "        pathways_cnts.append(len(drugs_pathways_df.loc[drugs_pathways_df['Drug Name'] == drug_name]))\n",
    "\n",
    "    plt.figure(figsize=(5, len(drug_names) / 4))\n",
    "    plt.barh(drug_names, pathways_cnts)\n",
    "    plt.xticks(range(0, max(pathways_cnts) + 1))\n",
    "    plt.ylabel('Drug Name')\n",
    "    plt.xlabel('Number of Pathways')\n",
    "    plt.title('Number of Pathways per Drug')\n",
    "    plt.show()\n",
    "\n",
    "\n",
    "show_drugs_pathways_histogram(drugs_df, drugs_pathways_df)"
   ],
   "outputs": [],
   "execution_count": null
  },
  {
   "cell_type": "markdown",
   "id": "d1dd72b5d15e1e65",
   "metadata": {},
   "source": [
    "## Zadanie 7\n",
    "Utworzyć ramkę danych zawierającą informacje o białkach, z którymi poszczególne leki\n",
    "wchodzą w interakcje. Białka te to tzw. targety. Ramka danych powinna zawierać\n",
    "przynajmniej DrugBank ID targetu, informację o zewnętrznej bazie danych (ang. *source*,\n",
    "np. Swiss-Prot), identyfikator w zewnętrznej bazie danych, nazwę polipeptydu, nazwę genu\n",
    "kodującego polipeptyd, identyfikator genu GenAtlas ID, numer chromosomu, umiejscowienie\n",
    "w komórce."
   ]
  },
  {
   "cell_type": "code",
   "id": "ef101e5eedd8529c",
   "metadata": {},
   "source": [
    "# returns DataFrame containing targets (only polypeptides) data for drugs\n",
    "# data - BeautifulSoup object containing database\n",
    "def create_targets_dataframe(data):\n",
    "    targets = []\n",
    "    for drug in data.find('drugbank').find_all('drug', recursive=False):\n",
    "        drug_id = drug.find('drugbank-id', {'primary': 'true'}, recursive=False).text\n",
    "        targets_list = drug.find('targets', recursive=False)\n",
    "        if targets_list:\n",
    "            for target in targets_list.find_all('target', recursive=False):\n",
    "                target_id = target.find('id', recursive=False).text\n",
    "                polypeptide = target.find('polypeptide', recursive=False)\n",
    "                if polypeptide:\n",
    "                    polypeptide_source = polypeptide.get('source')\n",
    "                    polypeptide_external_id = polypeptide.get('id')\n",
    "                    polypeptide_name = polypeptide.find('name', recursive=False).text\n",
    "                    polypeptide_gene = polypeptide.find('gene-name', recursive=False).text\n",
    "                    genatlas_id = None\n",
    "                    for identifier in polypeptide.find('external-identifiers', recursive=False).find_all('external-identifier', recursive=False):\n",
    "                        if identifier.find('resource', recursive=False).text == 'GenAtlas':\n",
    "                            genatlas_id = identifier.find('identifier', recursive=False).text\n",
    "                    chromosome = polypeptide.find('chromosome-location', recursive=False).text\n",
    "                    location = polypeptide.find('cellular-location', recursive=False).text\n",
    "\n",
    "                    targets.append({\n",
    "                        'DrugBank ID': drug_id,\n",
    "                        'Target ID': target_id,\n",
    "                        'Source': polypeptide_source,\n",
    "                        'External Polypeptide ID': polypeptide_external_id,\n",
    "                        'Polypeptide Name': polypeptide_name,\n",
    "                        'Polypeptide Gene': polypeptide_gene,\n",
    "                        'GenAtlas ID': genatlas_id,\n",
    "                        'Chromosome': chromosome,\n",
    "                        'Location': location\n",
    "                    })\n",
    "\n",
    "    return pd.DataFrame(targets)\n"
   ],
   "outputs": [],
   "execution_count": null
  },
  {
   "metadata": {},
   "cell_type": "code",
   "source": [
    "targets_df = create_targets_dataframe(data)\n",
    "targets_df.head()"
   ],
   "id": "6d5e69f8dc95d53d",
   "outputs": [],
   "execution_count": null
  },
  {
   "cell_type": "markdown",
   "id": "603ba86c6001cc1",
   "metadata": {},
   "source": [
    "## Zadanie 8\n",
    "Utworzyć wykres kołowy prezentujący procentowe występowanie targetów w różnych\n",
    "częściach komórki."
   ]
  },
  {
   "cell_type": "code",
   "id": "159184af501e46f5",
   "metadata": {},
   "source": [
    "# Draws a pie chart showing the percentage of target locations\n",
    "# targets_df - DataFrame containing targets data (generated by create_targets_dataframe function)\n",
    "def show_targets_pie_chart(targets_df):\n",
    "    locations = targets_df['Location'].value_counts()\n",
    "    total = locations.sum()\n",
    "    others = locations[locations / total < 0.01].sum()\n",
    "    locations = locations[locations / total >= 0.01]\n",
    "    locations['Others'] = others\n",
    "\n",
    "    plt.figure(figsize=(10, 10))\n",
    "    plt.pie(locations, labels=locations.index, autopct='%1.1f%%', pctdistance=0.9)\n",
    "    plt.title('Target Locations')\n",
    "    plt.show()\n"
   ],
   "outputs": [],
   "execution_count": null
  },
  {
   "metadata": {},
   "cell_type": "code",
   "source": "show_targets_pie_chart(targets_df)",
   "id": "898459139d8bd8be",
   "outputs": [],
   "execution_count": null
  },
  {
   "cell_type": "markdown",
   "id": "7cf1dd4cf7bcf24",
   "metadata": {},
   "source": [
    "## Zadanie 9\n",
    "Utworzyć ramkę danych, pokazującą ile leków zostało zatwierdzonych, wycofanych, ile\n",
    "jest w fazie eksperymentalnej (ang. *experimental* lub *investigational*) i dopuszczonych w\n",
    "leczeniu zwierząt. Przedstawić te dane na wykresie kołowym. Podać liczbę zatwierdzonych\n",
    "leków, które nie zostały wycofane."
   ]
  },
  {
   "cell_type": "code",
   "id": "54e5be526c7fef4d",
   "metadata": {},
   "source": [
    "# returns DataFrame containing drug groups data\n",
    "# data - BeautifulSoup object containing database\n",
    "def create_drug_groups_dataframe(data):\n",
    "    drug_statuses = []\n",
    "    for drug in data.find('drugbank').find_all('drug', recursive=False):\n",
    "        id = drug.find('drugbank-id', {'primary': 'true'}, recursive=False).text\n",
    "        for group in drug.find('groups', recursive=False).find_all('group', recursive=False):\n",
    "            drug_statuses.append({\n",
    "                'DrugBank ID': id,\n",
    "                'Status': group.text\n",
    "            })\n",
    "\n",
    "    return pd.DataFrame(drug_statuses)"
   ],
   "outputs": [],
   "execution_count": null
  },
  {
   "metadata": {},
   "cell_type": "code",
   "source": [
    "drug_groups_df = create_drug_groups_dataframe(data)\n",
    "drug_groups_df.head()"
   ],
   "id": "bead7efb08cb27c6",
   "outputs": [],
   "execution_count": null
  },
  {
   "cell_type": "code",
   "id": "a60e6c26ade7f628",
   "metadata": {},
   "source": [
    "# Draws a pie chart showing the percentage of drug statuses\n",
    "# drug_groups_df - DataFrame containing drug groups data (generated by create_drug_groups_dataframe function)\n",
    "def show_drug_groups_pie_chart(drug_groups_df):\n",
    "    statuses = drug_groups_df['Status'].value_counts()\n",
    "\n",
    "    plt.figure(figsize=(10, 10))\n",
    "    plt.pie(statuses, labels=statuses.index, autopct='%1.1f%%', pctdistance=0.9)\n",
    "    plt.title('Drug Statuses')\n",
    "    plt.show()"
   ],
   "outputs": [],
   "execution_count": null
  },
  {
   "metadata": {},
   "cell_type": "code",
   "source": "show_drug_groups_pie_chart(drug_groups_df)",
   "id": "a38cf89b9db019e0",
   "outputs": [],
   "execution_count": null
  },
  {
   "cell_type": "code",
   "id": "de59ca7f2c6162ea",
   "metadata": {},
   "source": [
    "approved = drug_groups_df.loc[drug_groups_df['Status'] == 'approved', 'DrugBank ID']\n",
    "withdrawn = drug_groups_df.loc[drug_groups_df['Status'] == 'withdrawn', 'DrugBank ID']\n",
    "approved_not_withdrawn = approved[~approved.isin(withdrawn)]\n",
    "print(\"Number of approved drugs that were not withdrawn:\", len(approved_not_withdrawn))"
   ],
   "outputs": [],
   "execution_count": null
  },
  {
   "cell_type": "markdown",
   "id": "8d2001c502c8d4b8",
   "metadata": {},
   "source": [
    "## Zadanie 10\n",
    "Utworzyć ramkę danych zawierającą informacje dotyczące potencjalnych interakcji danego leku z innymi lekami."
   ]
  },
  {
   "cell_type": "code",
   "id": "a231762da8807072",
   "metadata": {},
   "source": [
    "# returns DataFrame containing drug interactions data\n",
    "# data - BeautifulSoup object containing database\n",
    "def create_drug_interactions_dataframe(data):\n",
    "    drug_interactions = []\n",
    "    for drug in data.find('drugbank').find_all('drug', recursive=False):\n",
    "        id = drug.find('drugbank-id', {'primary': 'true'}, recursive=False).text\n",
    "        for interaction in drug.find('drug-interactions', recursive=False).find_all('drug-interaction', recursive=False):\n",
    "            other_drug_id = interaction.find('drugbank-id', recursive=False).text\n",
    "            description = interaction.find('description', recursive=False).text\n",
    "            drug_interactions.append({\n",
    "                'DrugBank ID': id,\n",
    "                'Other drug ID': other_drug_id,\n",
    "                'Description': description\n",
    "            })\n",
    "\n",
    "    return pd.DataFrame(drug_interactions)"
   ],
   "outputs": [],
   "execution_count": null
  },
  {
   "metadata": {},
   "cell_type": "code",
   "source": [
    "drug_interactions_df = create_drug_interactions_dataframe(data)\n",
    "drug_interactions_df.head()"
   ],
   "id": "e8bc93a143457d18",
   "outputs": [],
   "execution_count": null
  },
  {
   "cell_type": "markdown",
   "id": "126e5e0f9d8eb363",
   "metadata": {},
   "source": [
    "## Zadanie 11\n",
    "Opracować według własnego pomysłu graficzną prezentację zawierającą informacje o\n",
    "konkretnym genie lub genach, substancjach leczniczych, które z tym genem/genami\n",
    "wchodzą w interakcje, oraz produktach farmaceutycznych, które zawierają daną substancję\n",
    "leczniczą. Wybór dotyczący tego, czy prezentacja graficzna jest realizowana dla\n",
    "konkretnego genu, czy wszystkich genów jednocześnie pozostawiamy Państwa decyzji.\n",
    "Przy dokonywaniu wyboru należy kierować się czytelnością i atrakcyjnością prezentacji\n",
    "graficznej"
   ]
  },
  {
   "cell_type": "code",
   "id": "98cf2168b0e7f75e",
   "metadata": {},
   "source": [
    "# Draws a graph of gene interactions for a given gene\n",
    "# targets_df - DataFrame containing targets data (generated by create_targets_dataframe function)\n",
    "# pharmaceuticals_df - DataFrame containing pharmaceuticals data (generated by create_pharmaceuticals_dataframe function)\n",
    "def show_gene_interactions_graph(targets_df, pharmaceuticals_df, gene_name):\n",
    "    g = nx.Graph()\n",
    "    g.add_node(gene_name, part=0)\n",
    "\n",
    "    drugs = targets_df.loc[targets_df['Polypeptide Gene'] == gene_name]['DrugBank ID']\n",
    "\n",
    "    for drugbank_id in drugs.values:\n",
    "        drug_name = drugs_df.loc[drugs_df['DrugBank ID'] == drugbank_id]['Name'].values[0]\n",
    "        g.add_node(drug_name, part=1)\n",
    "        g.add_edge(gene_name, drug_name)\n",
    "\n",
    "        products = pharmaceuticals_df.loc[pharmaceuticals_df['DrugBank ID'] == drugbank_id]['Product Name']\n",
    "        for product in products:\n",
    "            g.add_node(product, part=2)\n",
    "            g.add_edge(drug_name, product)\n",
    "\n",
    "    colors = []\n",
    "    for node, part in g.nodes(data='part'):\n",
    "        if part == 0:\n",
    "            colors.append('lightgreen')\n",
    "        elif part == 1:\n",
    "            colors.append('lightblue')\n",
    "        else:\n",
    "            colors.append('lightcoral')\n",
    "\n",
    "    plt.figure(figsize=(15, 15))\n",
    "    nx.draw(g, with_labels=True, font_size=10, node_size=5000, node_color=colors)\n",
    "    plt.show()"
   ],
   "outputs": [],
   "execution_count": null
  },
  {
   "metadata": {},
   "cell_type": "code",
   "source": "show_gene_interactions_graph(targets_df, pharmaceuticals_df, \"PLG\")",
   "id": "a49a1025bd0f8ace",
   "outputs": [],
   "execution_count": null
  },
  {
   "cell_type": "markdown",
   "id": "f9e843466fd256eb",
   "metadata": {},
   "source": [
    "## Zadanie 12\n",
    "Zaproponować własną analizę i prezentację danych dotyczących leków. Można w tym\n",
    "celu pozyskiwać dodatkowe informacje z innych biomedycznych i bioinformatycznych baz\n",
    "danych dostępnych online. Należy jednak upewnić się, czy dana baza danych pozwala na\n",
    "zautomatyzowane pobieranie danych przez program. Na przykład baza danych GeneCards\n",
    "wprost tego zabrania, co zostało na czerwono podkreślone na tej stronie. Przykładowe bazy\n",
    "danych to: UniProt (https://www.uniprot.org/), Small Molecule Pathway Database\n",
    "(https://smpdb.ca/), The Human Protein Atlas (https://www.proteinatlas.org/)"
   ]
  },
  {
   "metadata": {},
   "cell_type": "markdown",
   "source": [
    "#### Analiza ekspresji genu\n",
    "Dla danego genu z bazy danych The Human Protein Atlas pobieram dane o ekspresji genu w różnych narządach i prezentuję je na wykresie słupkowym."
   ],
   "id": "5e301bbe9e365c37"
  },
  {
   "cell_type": "code",
   "id": "9d2482c09c99e535",
   "metadata": {},
   "source": [
    "import requests\n",
    "import json"
   ],
   "outputs": [],
   "execution_count": null
  },
  {
   "metadata": {},
   "cell_type": "code",
   "source": [
    "# returns Ensembl gene ID for a given gene name\n",
    "# gene_name - name of the gene\n",
    "def get_ensembl_gene_id(gene_name):\n",
    "    url = \"https://www.proteinatlas.org/api/search_download.php?search={gene_name}&format=json&columns=g,eg&compress=no\"\n",
    "    response = requests.get(url.format(gene_name=gene_name))\n",
    "    data = json.loads(response.text)\n",
    "    for entry in data:\n",
    "        if entry['Gene'] == gene_name:\n",
    "            return entry['Ensembl']\n",
    "    else:\n",
    "        return None"
   ],
   "id": "61509ccc08ef8823",
   "outputs": [],
   "execution_count": null
  },
  {
   "metadata": {},
   "cell_type": "code",
   "source": [
    "# returns gene expression data for a given gene name from The Human Protein Atlas\n",
    "# gene_name - name of the gene\n",
    "def get_gene_expression_data(gene_name):\n",
    "    ensembl_gene_id = get_ensembl_gene_id(gene_name)\n",
    "    url = \"https://www.proteinatlas.org/{ensembl_gene_id}.xml\"\n",
    "    response = requests.get(url.format(ensembl_gene_id=ensembl_gene_id))\n",
    "    soup = BeautifulSoup(response.text, 'lxml-xml')\n",
    "    expressions = dict()\n",
    "    for entry in soup.find('rnaExpression', {'source': 'HPA', 'assayType': 'consensusTissue'}).findAll('data'):\n",
    "        organ = entry.find('tissue').get('organ')\n",
    "        level = entry.find('level', {'type':'RNAExpression'}).get('expRNA')\n",
    "        if organ not in expressions:\n",
    "            expressions[organ] = 0\n",
    "        expressions[organ] += float(level)\n",
    "    return expressions"
   ],
   "id": "7a1ad0b40ecbc40",
   "outputs": [],
   "execution_count": null
  },
  {
   "metadata": {},
   "cell_type": "code",
   "source": [
    "# Draws a heat map from the gene expression data\n",
    "# gene_name - name of the gene\n",
    "def show_gene_expression_bar_plot(gene_name):\n",
    "    expressions = get_gene_expression_data(gene_name)\n",
    "    plt.figure(figsize=(10, 5))\n",
    "    plt.bar(expressions.keys(), expressions.values())\n",
    "    plt.xticks(rotation=90)\n",
    "    plt.ylabel('Expression Level[TPM]')\n",
    "    plt.title(f'Gene {gene_name} Expression in Different Organs')\n",
    "    plt.show()"
   ],
   "id": "c3a65f2c306aa378",
   "outputs": [],
   "execution_count": null
  },
  {
   "metadata": {},
   "cell_type": "code",
   "source": "show_gene_expression_bar_plot(\"CD86\")",
   "id": "9bb0cd42b0748813",
   "outputs": [],
   "execution_count": null
  },
  {
   "cell_type": "markdown",
   "id": "8c4cd37c27f1149",
   "metadata": {},
   "source": [
    "## Zadanie 13\n",
    "Stworzyć symulator, który generuje testową bazę 20000 leków. Wartości generowanych\n",
    "19900 leków w kolumnie “DrugBank Id” powinny mieć kolejne numery, a w pozostałych\n",
    "kolumnach wartości wylosowane spośród wartości istniejących 100 leków. Zapisz wyniki w\n",
    "pliku drugbank_partial_and_generated.xml. Przeprowadź analizę według punktów 1-12\n",
    "testowej bazy"
   ]
  },
  {
   "metadata": {},
   "cell_type": "code",
   "outputs": [],
   "execution_count": null,
   "source": "",
   "id": "cf4b1ff75c852173"
  },
  {
   "cell_type": "markdown",
   "id": "cf250be334c7b0d5",
   "metadata": {},
   "source": [
    "## Zadanie 14\n",
    "Przygotować testy jednostkowe z pomocą biblioteki pytest."
   ]
  },
  {
   "cell_type": "code",
   "id": "2b04c20ca7b393da",
   "metadata": {},
   "source": "",
   "outputs": [],
   "execution_count": null
  },
  {
   "cell_type": "markdown",
   "id": "5f7b6d57cce555f",
   "metadata": {},
   "source": [
    "## Zadanie 15\n",
    "Zrealizować punkt 6 tak, aby możliwe było wysłanie id leku na Twój serwer, który zwróci\n",
    "wynik w odpowiedzi (skorzystaj z fastapi i uvicorn; wystarczy zademonstrowanie przesłania\n",
    "danych metodą POST, przez Execute w dokumentacji)"
   ]
  },
  {
   "metadata": {
    "ExecuteTime": {
     "end_time": "2025-01-31T03:51:22.934259Z",
     "start_time": "2025-01-31T03:51:22.931624Z"
    }
   },
   "cell_type": "code",
   "source": [
    "# uvicorn serwer:app --reload\n",
    "import requests\n",
    "\n",
    "def send_request(drug_id):\n",
    "    url = \"http://127.0.0.1:8000/get_pathways_count/\"\n",
    "    response = requests.post(url, json={\"drug_id\": drug_id})\n",
    "    return response.json()['pathways_count']"
   ],
   "id": "fdee25d065bc916d",
   "outputs": [],
   "execution_count": 76
  },
  {
   "metadata": {
    "ExecuteTime": {
     "end_time": "2025-01-31T03:51:25.811704Z",
     "start_time": "2025-01-31T03:51:25.806796Z"
    }
   },
   "cell_type": "code",
   "source": [
    "drug_id = 'DB00001'\n",
    "print(f\"Drug {drug_id} interacts with {send_request(drug_id)} pathways\")"
   ],
   "id": "fcd49317358d9520",
   "outputs": [
    {
     "name": "stdout",
     "output_type": "stream",
     "text": [
      "Drug DB00001 interacts with 1 pathways\n"
     ]
    }
   ],
   "execution_count": 77
  },
  {
   "metadata": {},
   "cell_type": "code",
   "outputs": [],
   "execution_count": null,
   "source": "",
   "id": "7a2a690ff40eb6f8"
  }
 ],
 "metadata": {
  "kernelspec": {
   "display_name": "Python 3 (ipykernel)",
   "language": "python",
   "name": "python3"
  },
  "language_info": {
   "codemirror_mode": {
    "name": "ipython",
    "version": 3
   },
   "file_extension": ".py",
   "mimetype": "text/x-python",
   "name": "python",
   "nbconvert_exporter": "python",
   "pygments_lexer": "ipython3",
   "version": "3.12.3"
  }
 },
 "nbformat": 4,
 "nbformat_minor": 5
}
